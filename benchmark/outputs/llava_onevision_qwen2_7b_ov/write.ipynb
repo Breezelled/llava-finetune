{
 "cells": [
  {
   "cell_type": "code",
   "execution_count": 3,
   "metadata": {},
   "outputs": [
    {
     "name": "stdout",
     "output_type": "stream",
     "text": [
      "数据已成功写入 output.json\n"
     ]
    }
   ],
   "source": [
    "import pandas as pd\n",
    "import json\n",
    "\n",
    "excel_file = 'llava_onevision_qwen2_7b_ov_MMMU_TEST.xlsx'\n",
    "sheet_name = 'Sheet1'\n",
    "column_name = 'prediction'\n",
    "key_column = 'id'\n",
    "\n",
    "# 使用 pandas 读取 Excel 文件中的特定列\n",
    "df = pd.read_excel(excel_file, sheet_name=sheet_name, usecols=[key_column, column_name])\n",
    "\n",
    "data = {}\n",
    "for key, value in zip(df[key_column], df[column_name]):\n",
    "    data[key] = value\n",
    "\n",
    "output_file = 'output.json'\n",
    "with open(output_file, 'w', encoding='utf-8') as f:\n",
    "    json.dump(data, f, indent=4, ensure_ascii=False)\n",
    "\n",
    "print(f\"数据已成功写入 {output_file}\")"
   ]
  }
 ],
 "metadata": {
  "kernelspec": {
   "display_name": "Python 3",
   "language": "python",
   "name": "python3"
  },
  "language_info": {
   "codemirror_mode": {
    "name": "ipython",
    "version": 3
   },
   "file_extension": ".py",
   "mimetype": "text/x-python",
   "name": "python",
   "nbconvert_exporter": "python",
   "pygments_lexer": "ipython3",
   "version": "3.9.20"
  }
 },
 "nbformat": 4,
 "nbformat_minor": 2
}
